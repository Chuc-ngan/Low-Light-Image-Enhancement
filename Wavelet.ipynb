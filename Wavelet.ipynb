{
  "cells": [
    {
      "cell_type": "markdown",
      "metadata": {
        "id": "view-in-github",
        "colab_type": "text"
      },
      "source": [
        "<a href=\"https://colab.research.google.com/github/Chuc-ngan/Low-Light-Image-Enhancement/blob/main/Wavelet.ipynb\" target=\"_parent\"><img src=\"https://colab.research.google.com/assets/colab-badge.svg\" alt=\"Open In Colab\"/></a>"
      ]
    },
    {
      "cell_type": "code",
      "execution_count": null,
      "metadata": {
        "colab": {
          "base_uri": "https://localhost:8080/"
        },
        "id": "2oVvY8i1hu3A",
        "outputId": "b1a9c8ef-bd0e-495e-c98e-b8dbdbcaf21c"
      },
      "outputs": [
        {
          "output_type": "stream",
          "name": "stdout",
          "text": [
            "Requirement already satisfied: tensorflow==2.18.0 in /usr/local/lib/python3.11/dist-packages (2.18.0)\n",
            "Requirement already satisfied: absl-py>=1.0.0 in /usr/local/lib/python3.11/dist-packages (from tensorflow==2.18.0) (1.4.0)\n",
            "Requirement already satisfied: astunparse>=1.6.0 in /usr/local/lib/python3.11/dist-packages (from tensorflow==2.18.0) (1.6.3)\n",
            "Requirement already satisfied: flatbuffers>=24.3.25 in /usr/local/lib/python3.11/dist-packages (from tensorflow==2.18.0) (25.2.10)\n",
            "Requirement already satisfied: gast!=0.5.0,!=0.5.1,!=0.5.2,>=0.2.1 in /usr/local/lib/python3.11/dist-packages (from tensorflow==2.18.0) (0.6.0)\n",
            "Requirement already satisfied: google-pasta>=0.1.1 in /usr/local/lib/python3.11/dist-packages (from tensorflow==2.18.0) (0.2.0)\n",
            "Requirement already satisfied: libclang>=13.0.0 in /usr/local/lib/python3.11/dist-packages (from tensorflow==2.18.0) (18.1.1)\n",
            "Requirement already satisfied: opt-einsum>=2.3.2 in /usr/local/lib/python3.11/dist-packages (from tensorflow==2.18.0) (3.4.0)\n",
            "Requirement already satisfied: packaging in /usr/local/lib/python3.11/dist-packages (from tensorflow==2.18.0) (24.2)\n",
            "Requirement already satisfied: protobuf!=4.21.0,!=4.21.1,!=4.21.2,!=4.21.3,!=4.21.4,!=4.21.5,<6.0.0dev,>=3.20.3 in /usr/local/lib/python3.11/dist-packages (from tensorflow==2.18.0) (5.29.4)\n",
            "Requirement already satisfied: requests<3,>=2.21.0 in /usr/local/lib/python3.11/dist-packages (from tensorflow==2.18.0) (2.32.3)\n",
            "Requirement already satisfied: setuptools in /usr/local/lib/python3.11/dist-packages (from tensorflow==2.18.0) (75.2.0)\n",
            "Requirement already satisfied: six>=1.12.0 in /usr/local/lib/python3.11/dist-packages (from tensorflow==2.18.0) (1.17.0)\n",
            "Requirement already satisfied: termcolor>=1.1.0 in /usr/local/lib/python3.11/dist-packages (from tensorflow==2.18.0) (3.1.0)\n",
            "Requirement already satisfied: typing-extensions>=3.6.6 in /usr/local/lib/python3.11/dist-packages (from tensorflow==2.18.0) (4.13.2)\n",
            "Requirement already satisfied: wrapt>=1.11.0 in /usr/local/lib/python3.11/dist-packages (from tensorflow==2.18.0) (1.17.2)\n",
            "Requirement already satisfied: grpcio<2.0,>=1.24.3 in /usr/local/lib/python3.11/dist-packages (from tensorflow==2.18.0) (1.71.0)\n",
            "Requirement already satisfied: tensorboard<2.19,>=2.18 in /usr/local/lib/python3.11/dist-packages (from tensorflow==2.18.0) (2.18.0)\n",
            "Requirement already satisfied: keras>=3.5.0 in /usr/local/lib/python3.11/dist-packages (from tensorflow==2.18.0) (3.8.0)\n",
            "Requirement already satisfied: numpy<2.1.0,>=1.26.0 in /usr/local/lib/python3.11/dist-packages (from tensorflow==2.18.0) (2.0.2)\n",
            "Requirement already satisfied: h5py>=3.11.0 in /usr/local/lib/python3.11/dist-packages (from tensorflow==2.18.0) (3.13.0)\n",
            "Requirement already satisfied: ml-dtypes<0.5.0,>=0.4.0 in /usr/local/lib/python3.11/dist-packages (from tensorflow==2.18.0) (0.4.1)\n",
            "Requirement already satisfied: tensorflow-io-gcs-filesystem>=0.23.1 in /usr/local/lib/python3.11/dist-packages (from tensorflow==2.18.0) (0.37.1)\n",
            "Requirement already satisfied: wheel<1.0,>=0.23.0 in /usr/local/lib/python3.11/dist-packages (from astunparse>=1.6.0->tensorflow==2.18.0) (0.45.1)\n",
            "Requirement already satisfied: rich in /usr/local/lib/python3.11/dist-packages (from keras>=3.5.0->tensorflow==2.18.0) (13.9.4)\n",
            "Requirement already satisfied: namex in /usr/local/lib/python3.11/dist-packages (from keras>=3.5.0->tensorflow==2.18.0) (0.0.9)\n",
            "Requirement already satisfied: optree in /usr/local/lib/python3.11/dist-packages (from keras>=3.5.0->tensorflow==2.18.0) (0.15.0)\n",
            "Requirement already satisfied: charset-normalizer<4,>=2 in /usr/local/lib/python3.11/dist-packages (from requests<3,>=2.21.0->tensorflow==2.18.0) (3.4.2)\n",
            "Requirement already satisfied: idna<4,>=2.5 in /usr/local/lib/python3.11/dist-packages (from requests<3,>=2.21.0->tensorflow==2.18.0) (3.10)\n",
            "Requirement already satisfied: urllib3<3,>=1.21.1 in /usr/local/lib/python3.11/dist-packages (from requests<3,>=2.21.0->tensorflow==2.18.0) (2.4.0)\n",
            "Requirement already satisfied: certifi>=2017.4.17 in /usr/local/lib/python3.11/dist-packages (from requests<3,>=2.21.0->tensorflow==2.18.0) (2025.4.26)\n",
            "Requirement already satisfied: markdown>=2.6.8 in /usr/local/lib/python3.11/dist-packages (from tensorboard<2.19,>=2.18->tensorflow==2.18.0) (3.8)\n",
            "Requirement already satisfied: tensorboard-data-server<0.8.0,>=0.7.0 in /usr/local/lib/python3.11/dist-packages (from tensorboard<2.19,>=2.18->tensorflow==2.18.0) (0.7.2)\n",
            "Requirement already satisfied: werkzeug>=1.0.1 in /usr/local/lib/python3.11/dist-packages (from tensorboard<2.19,>=2.18->tensorflow==2.18.0) (3.1.3)\n",
            "Requirement already satisfied: MarkupSafe>=2.1.1 in /usr/local/lib/python3.11/dist-packages (from werkzeug>=1.0.1->tensorboard<2.19,>=2.18->tensorflow==2.18.0) (3.0.2)\n",
            "Requirement already satisfied: markdown-it-py>=2.2.0 in /usr/local/lib/python3.11/dist-packages (from rich->keras>=3.5.0->tensorflow==2.18.0) (3.0.0)\n",
            "Requirement already satisfied: pygments<3.0.0,>=2.13.0 in /usr/local/lib/python3.11/dist-packages (from rich->keras>=3.5.0->tensorflow==2.18.0) (2.19.1)\n",
            "Requirement already satisfied: mdurl~=0.1 in /usr/local/lib/python3.11/dist-packages (from markdown-it-py>=2.2.0->rich->keras>=3.5.0->tensorflow==2.18.0) (0.1.2)\n"
          ]
        }
      ],
      "source": [
        "!pip install tensorflow==2.18.0  # Thay đổi phiên bản theo nhu cầu"
      ]
    },
    {
      "cell_type": "markdown",
      "metadata": {
        "id": "F5Aq6mlhfC5M"
      },
      "source": [
        "# **1. Kết nối với Drive**"
      ]
    },
    {
      "cell_type": "code",
      "execution_count": null,
      "metadata": {
        "colab": {
          "base_uri": "https://localhost:8080/"
        },
        "id": "1XT_xZbRWQvs",
        "outputId": "bd1a6575-19e7-4709-e0c7-c1a14ea0d02d"
      },
      "outputs": [
        {
          "output_type": "stream",
          "name": "stdout",
          "text": [
            "Mounted at /content/gdrive\n",
            "/content/gdrive/.shortcut-targets-by-id/1DnsWp1mopgehQJUYpN4ERfnj2CyapJGW/ColabNotebooks/TieuLuan\n",
            "/content/gdrive/.shortcut-targets-by-id/1DnsWp1mopgehQJUYpN4ERfnj2CyapJGW/ColabNotebooks/TieuLuan\n"
          ]
        }
      ],
      "source": [
        "from google.colab import drive\n",
        "drive.mount('/content/gdrive')\n",
        "%cd '/content/gdrive/MyDrive/ColabNotebooks/TieuLuan'\n",
        "\n",
        "!pwd"
      ]
    },
    {
      "cell_type": "markdown",
      "metadata": {
        "id": "0W28DwVsfKnW"
      },
      "source": [
        "# **2. Import thư viện**"
      ]
    },
    {
      "cell_type": "code",
      "execution_count": null,
      "metadata": {
        "id": "JAHdmh3gXMX1"
      },
      "outputs": [],
      "source": [
        "# ===================== 1. Xử lý dữ liệu =====================\n",
        "import os\n",
        "import shutil  # Quản lý tệp/thư mục\n",
        "import random\n",
        "import math\n",
        "import collections\n",
        "import pywt\n",
        "import numpy as np  # Xử lý số học\n",
        "import pandas as pd  # Xử lý dữ liệu CSV\n",
        "from pathlib import Path\n",
        "from PIL import Image, UnidentifiedImageError\n",
        "from tensorflow.keras.preprocessing.image import load_img, img_to_array\n",
        "from tensorflow.keras.utils import Sequence\n",
        "from tensorflow.keras.preprocessing.image import ImageDataGenerator\n",
        "from tqdm import tqdm\n",
        "import pickle\n",
        "# ===================== 2. Machine Learning =====================\n",
        "from sklearn.model_selection import train_test_split\n",
        "from sklearn.preprocessing import LabelEncoder\n",
        "from sklearn.metrics import accuracy_score, precision_score, recall_score, f1_score\n",
        "from sklearn.metrics import classification_report, confusion_matrix, roc_auc_score\n",
        "import seaborn as sns\n",
        "\n",
        "# ===================== 3. TensorFlow & Keras =====================\n",
        "import tensorflow as tf\n",
        "from tensorflow.keras.models import Model, Sequential, load_model\n",
        "from tensorflow.keras.optimizers import Adam\n",
        "from tensorflow.keras.utils import to_categorical, plot_model\n",
        "from tensorflow.keras.callbacks import ModelCheckpoint\n",
        "from tensorflow.keras import mixed_precision\n",
        "from tensorflow.keras.regularizers import l2\n",
        "from tensorflow.keras.preprocessing import image_dataset_from_directory\n",
        "from tensorflow.keras.callbacks import EarlyStopping\n",
        "from tensorflow.keras.callbacks import ReduceLROnPlateau\n",
        "\n",
        "# ===================== 4. Xây dựng mô hình =====================\n",
        "from tensorflow.keras.layers import (\n",
        "    Input, Conv2D, MaxPooling2D, UpSampling2D, BatchNormalization,\n",
        "    GlobalAveragePooling2D, Dense, Dropout, RepeatVector, Reshape, Flatten\n",
        ")\n",
        "from tensorflow.keras.applications import EfficientNetB0, ResNet50\n",
        "from keras.applications.inception_resnet_v2 import InceptionResNetV2, preprocess_input, decode_predictions\n",
        "from keras.layers import add, concatenate\n",
        "from keras import layers, backend as K\n",
        "\n",
        "# ===================== 5. Xử lý hình ảnh & Vẽ biểu đồ =====================\n",
        "import cv2 as cv\n",
        "import matplotlib.pyplot as plt\n",
        "\n",
        "# ===================== 6. Đặt Seed (Reproducibility) =====================\n",
        "tf.random.set_seed(42)  # Thay số 42 bằng giá trị seed mong muốn\n",
        "np.random.seed(1)\n"
      ]
    },
    {
      "cell_type": "markdown",
      "metadata": {
        "id": "fV9gV1e4QVE_"
      },
      "source": [
        "# **3. Cấu hình môi trường TensorFlow**"
      ]
    },
    {
      "cell_type": "code",
      "execution_count": null,
      "metadata": {
        "colab": {
          "base_uri": "https://localhost:8080/"
        },
        "id": "dDM-OVCO-ttq",
        "outputId": "714bac14-6eba-426f-d7a4-d44b9ff0439c"
      },
      "outputs": [
        {
          "output_type": "stream",
          "name": "stdout",
          "text": [
            "TensorFlow is running on GPU: True\n"
          ]
        }
      ],
      "source": [
        "# Thiết lập GPU sử dụng bộ nhớ động (tránh lỗi thiếu bộ nhớ)\n",
        "gpu_devices = tf.config.list_physical_devices('GPU')\n",
        "if gpu_devices:\n",
        "    tf.config.experimental.set_memory_growth(gpu_devices[0], True)\n",
        "\n",
        "# Kiểm tra TensorFlow đang chạy trên GPU hay không\n",
        "print(\"TensorFlow is running on GPU:\", tf.test.is_built_with_cuda())\n",
        "# Bật chế độ Mixed Precision để tăng tốc (nếu GPU hỗ trợ)\n",
        "# Thiết lập mixed precision\n",
        "policy = mixed_precision.Policy('mixed_float16')\n",
        "mixed_precision.set_global_policy(policy)\n",
        "\n",
        "# Bật XLA với cấu hình tối ưu\n",
        "tf.config.optimizer.set_jit(True)\n",
        "tf.config.optimizer.set_experimental_options({\n",
        "    \"layout_optimizer\": True,\n",
        "    \"constant_folding\": True,\n",
        "    \"shape_optimization\": True,\n",
        "    \"remapping\": True,\n",
        "    \"arithmetic_optimization\": True,\n",
        "    \"dependency_optimization\": True,\n",
        "    \"loop_optimization\": True,\n",
        "    \"function_optimization\": True,\n",
        "    \"debug_stripper\": True\n",
        "})"
      ]
    },
    {
      "cell_type": "markdown",
      "metadata": {
        "id": "7WZ7kX1nNJKV"
      },
      "source": [
        "# **4. Configuration**"
      ]
    },
    {
      "cell_type": "code",
      "execution_count": null,
      "metadata": {
        "id": "smjji7qiydwu"
      },
      "outputs": [],
      "source": [
        "# Thư mục thiếu sáng\n",
        "low_light_dir = \"dataset/low_light\"\n",
        "\n",
        "low_light_noise_dir = \"dataset/low_light_noise\"\n",
        "\n",
        "# Ảnh đã tăng cường bằng phương pháp Wavelet\n",
        "enhanced_wavelet_low_light_dir = \"dataset/enhanced_wavelet_low_light\"\n",
        "enhanced_wavelet_low_light_noise_dir = \"dataset/enhanced_wavelet_low_light_noise\""
      ]
    },
    {
      "cell_type": "markdown",
      "source": [
        "# **5. Wavelet**"
      ],
      "metadata": {
        "id": "mM7bEhhxyooD"
      }
    },
    {
      "cell_type": "code",
      "source": [
        "# Hàm xử lý một kênh ảnh (Y) bằng Wavelet\n",
        "def enhance_wavelet_channel(channel, threshold=5, amplify_factor=6.0, ll_factor=1.8, denoise_thresh=10):\n",
        "    # Lấy kích thước ảnh\n",
        "    h, w = channel.shape\n",
        "    # Đảm bảo chiều cao chẵn để tránh lỗi DWT\n",
        "    if h % 2 != 0:\n",
        "        channel = channel[:-1, :]  # Cắt bỏ hàng cuối nếu chiều cao lẻ\n",
        "    # Đảm bảo chiều rộng chẵn để tránh lỗi DWT\n",
        "    if w % 2 != 0:\n",
        "        channel = channel[:, :-1]  # Cắt bỏ cột cuối nếu chiều rộng lẻ\n",
        "\n",
        "    # Phân tích Wavelet rời rạc (DWT2) với wavelet sym5\n",
        "    coeffs = pywt.dwt2(channel, 'sym5')  # Tách ảnh thành LL (độ sáng) và LH, HL, HH (chi tiết tần số cao)\n",
        "    LL, (LH, HL, HH) = coeffs  # Gán các thành phần Wavelet\n",
        "\n",
        "    # Khử nhiễu nhẹ bằng soft thresholding cho các thành phần tần số cao\n",
        "    LH = pywt.threshold(LH, denoise_thresh, mode='soft')  # Khử nhiễu cho LH với ngưỡng denoise_thresh=10\n",
        "    HL = pywt.threshold(HL, denoise_thresh, mode='soft')  # Khử nhiễu cho HL\n",
        "    HH = pywt.threshold(HH, denoise_thresh, mode='soft')  # Khử nhiễu cho HH\n",
        "\n",
        "    # Khuếch đại chi tiết tần số cao nếu giá trị tuyệt đối vượt ngưỡng\n",
        "    LH = np.where(np.abs(LH) > threshold, LH * amplify_factor, LH)  # Khuếch đại LH với amplify_factor=6.0 nếu > threshold=5\n",
        "    HL = np.where(np.abs(HL) > threshold, HL * amplify_factor, HL)  # Khuếch đại HL\n",
        "    HH = np.where(np.abs(HH) > threshold, HH * amplify_factor, HH)  # Khuếch đại HH\n",
        "\n",
        "    # Khuếch đại thành phần LL để tăng độ sáng toàn ảnh\n",
        "    LL = LL * ll_factor  # Nhân LL với ll_factor=1.8 để tăng độ sáng\n",
        "\n",
        "    # Tái tạo ảnh từ các hệ số Wavelet đã chỉnh sửa\n",
        "    enhanced = pywt.idwt2((LL, (LH, HL, HH)), 'sym5')  # Sử dụng biến đổi Wavelet ngược (IDWT2) với sym5\n",
        "\n",
        "    # Cắt ảnh về kích thước gốc nếu đã bị cắt trước đó\n",
        "    enhanced = enhanced[:h, :w]  # Đảm bảo kích thước đúng với ảnh ban đầu\n",
        "\n",
        "    # Giới hạn giá trị pixel trong [0, 255] và chuyển về định dạng uint8\n",
        "    return np.clip(enhanced, 0, 255).astype(np.uint8)\n",
        "\n",
        "# Hàm xử lý toàn bộ ảnh bằng Wavelet\n",
        "def enhance_wavelet(img):\n",
        "    # Chuyển ảnh từ không gian màu BGR sang YCrCb\n",
        "    ycrcb = cv.cvtColor(img, cv.COLOR_BGR2YCrCb)  # Tách kênh Y (độ sáng) và Cr, Cb (màu sắc)\n",
        "    y, cr, cb = cv.split(ycrcb)  # Tách các kênh Y, Cr, Cb\n",
        "\n",
        "    # Áp dụng cải thiện Wavelet cho kênh Y\n",
        "    y_enhanced = enhance_wavelet_channel(y)  # Xử lý kênh độ sáng bằng Wavelet\n",
        "\n",
        "    # Gộp lại các kênh Y đã cải thiện với Cr, Cb\n",
        "    enhanced_ycrcb = cv.merge([y_enhanced, cr, cb])  # Tạo ảnh YCrCb từ các kênh đã xử lý\n",
        "\n",
        "    # Chuyển ảnh từ YCrCb về không gian màu BGR\n",
        "    enhanced_bgr = cv.cvtColor(enhanced_ycrcb, cv.COLOR_YCrCb2BGR)  # Chuyển về BGR để lưu hoặc hiển thị\n",
        "\n",
        "    return enhanced_bgr  # Trả về ảnh đã cải thiện\n",
        "\n",
        "# Hàm xử lý hàng loạt ảnh bằng Wavelet\n",
        "def enhance_with_wavelet(input_dir, output_dir, img_size=(224, 224)):\n",
        "    os.makedirs(output_dir, exist_ok=True)  # Tạo thư mục đầu ra nếu chưa tồn tại\n",
        "\n",
        "    all_images = []  # Danh sách lưu cặp đường dẫn ảnh đầu vào và đầu ra\n",
        "    for root, _, files in os.walk(input_dir):  # Duyệt qua tất cả file trong thư mục đầu vào\n",
        "        rel_path = os.path.relpath(root, input_dir)  # Tính đường dẫn tương đối\n",
        "        save_dir = os.path.join(output_dir, rel_path)  # Tạo thư mục đầu ra tương ứng\n",
        "        os.makedirs(save_dir, exist_ok=True)  # Tạo thư mục nếu chưa tồn tại\n",
        "\n",
        "        # Lọc các file ảnh hợp lệ (.jpg, .png, .jpeg)\n",
        "        for file in files:\n",
        "            if file.lower().endswith((\".jpg\", \".png\", \".jpeg\")):\n",
        "                all_images.append((os.path.join(root, file), os.path.join(save_dir, file)))  # Thêm cặp (đầu vào, đầu ra)\n",
        "\n",
        "    # Xử lý từng ảnh với tiến độ hiển thị\n",
        "    with tqdm(total=len(all_images), desc=\"Enhancing with Wavelet\", ncols=100) as pbar:\n",
        "        for img_path, save_path in all_images:  # Duyệt qua từng cặp ảnh\n",
        "            img = cv.imread(img_path)  # Đọc ảnh đầu vào\n",
        "            img = cv.resize(img, img_size)  # Thay đổi kích thước ảnh về 224x224\n",
        "\n",
        "            enhanced_img = enhance_wavelet(img)  # Áp dụng cải thiện Wavelet cho ảnh\n",
        "\n",
        "            # Lưu ảnh cải thiện với chất lượng JPEG 95\n",
        "            cv.imwrite(save_path, enhanced_img, [cv.IMWRITE_JPEG_QUALITY, 95])  # Lưu ảnh vào thư mục đầu ra\n",
        "            pbar.update(1)  # Cập nhật thanh tiến độ\n",
        "\n",
        "    # In thông báo hoàn thành\n",
        "    print(f\"✅ Đã lưu {len(all_images)} ảnh sau khi áp dụng Wavelet vào: {output_dir}\")"
      ],
      "metadata": {
        "id": "WynyfxPRyewZ"
      },
      "execution_count": null,
      "outputs": []
    },
    {
      "cell_type": "code",
      "source": [
        "enhance_with_wavelet(low_light_dir, enhanced_wavelet_low_light_dir)"
      ],
      "metadata": {
        "colab": {
          "base_uri": "https://localhost:8080/"
        },
        "id": "mgRm_6FTyhWT",
        "outputId": "82e17747-e16e-4376-99ea-4771f7cd1bc6"
      },
      "execution_count": null,
      "outputs": [
        {
          "output_type": "stream",
          "name": "stderr",
          "text": [
            "Enhancing with Wavelet: 100%|█████████████████████████████████| 10402/10402 [32:40<00:00,  5.30it/s]"
          ]
        },
        {
          "output_type": "stream",
          "name": "stdout",
          "text": [
            "✅ Đã lưu 10402 ảnh sau khi áp dụng Wavelet vào: dataset/enhanced_wavelet_low_light\n"
          ]
        },
        {
          "output_type": "stream",
          "name": "stderr",
          "text": [
            "\n"
          ]
        }
      ]
    },
    {
      "cell_type": "code",
      "source": [
        "enhance_with_wavelet(low_light_noise_dir, enhanced_wavelet_low_light_noise_dir)"
      ],
      "metadata": {
        "id": "F9NmnzJlykyd",
        "colab": {
          "base_uri": "https://localhost:8080/"
        },
        "outputId": "3e96c9a6-7945-448d-b6a8-250cbf47441b"
      },
      "execution_count": null,
      "outputs": [
        {
          "output_type": "stream",
          "name": "stderr",
          "text": [
            "Enhancing with Wavelet: 100%|███████████████████████████████| 10402/10402 [1:02:39<00:00,  2.77it/s]"
          ]
        },
        {
          "output_type": "stream",
          "name": "stdout",
          "text": [
            "✅ Đã lưu 10402 ảnh sau khi áp dụng Wavelet vào: dataset/enhanced_wavelet_low_light_noise\n"
          ]
        },
        {
          "output_type": "stream",
          "name": "stderr",
          "text": [
            "\n"
          ]
        }
      ]
    }
  ],
  "metadata": {
    "accelerator": "GPU",
    "colab": {
      "gpuType": "T4",
      "provenance": [],
      "toc_visible": true,
      "include_colab_link": true
    },
    "kernelspec": {
      "display_name": "Python 3",
      "name": "python3"
    },
    "language_info": {
      "name": "python"
    }
  },
  "nbformat": 4,
  "nbformat_minor": 0
}