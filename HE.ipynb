{
  "cells": [
    {
      "cell_type": "markdown",
      "metadata": {
        "id": "view-in-github",
        "colab_type": "text"
      },
      "source": [
        "<a href=\"https://colab.research.google.com/github/Chuc-ngan/Low-Light-Image-Enhancement/blob/main/HE.ipynb\" target=\"_parent\"><img src=\"https://colab.research.google.com/assets/colab-badge.svg\" alt=\"Open In Colab\"/></a>"
      ]
    },
    {
      "cell_type": "code",
      "execution_count": null,
      "metadata": {
        "colab": {
          "base_uri": "https://localhost:8080/"
        },
        "id": "2oVvY8i1hu3A",
        "outputId": "6f27e5b8-2917-4ad9-a162-0ef23096fb31"
      },
      "outputs": [
        {
          "output_type": "stream",
          "name": "stdout",
          "text": [
            "Requirement already satisfied: tensorflow==2.18.0 in /usr/local/lib/python3.11/dist-packages (2.18.0)\n",
            "Requirement already satisfied: absl-py>=1.0.0 in /usr/local/lib/python3.11/dist-packages (from tensorflow==2.18.0) (1.4.0)\n",
            "Requirement already satisfied: astunparse>=1.6.0 in /usr/local/lib/python3.11/dist-packages (from tensorflow==2.18.0) (1.6.3)\n",
            "Requirement already satisfied: flatbuffers>=24.3.25 in /usr/local/lib/python3.11/dist-packages (from tensorflow==2.18.0) (25.2.10)\n",
            "Requirement already satisfied: gast!=0.5.0,!=0.5.1,!=0.5.2,>=0.2.1 in /usr/local/lib/python3.11/dist-packages (from tensorflow==2.18.0) (0.6.0)\n",
            "Requirement already satisfied: google-pasta>=0.1.1 in /usr/local/lib/python3.11/dist-packages (from tensorflow==2.18.0) (0.2.0)\n",
            "Requirement already satisfied: libclang>=13.0.0 in /usr/local/lib/python3.11/dist-packages (from tensorflow==2.18.0) (18.1.1)\n",
            "Requirement already satisfied: opt-einsum>=2.3.2 in /usr/local/lib/python3.11/dist-packages (from tensorflow==2.18.0) (3.4.0)\n",
            "Requirement already satisfied: packaging in /usr/local/lib/python3.11/dist-packages (from tensorflow==2.18.0) (24.2)\n",
            "Requirement already satisfied: protobuf!=4.21.0,!=4.21.1,!=4.21.2,!=4.21.3,!=4.21.4,!=4.21.5,<6.0.0dev,>=3.20.3 in /usr/local/lib/python3.11/dist-packages (from tensorflow==2.18.0) (5.29.4)\n",
            "Requirement already satisfied: requests<3,>=2.21.0 in /usr/local/lib/python3.11/dist-packages (from tensorflow==2.18.0) (2.32.3)\n",
            "Requirement already satisfied: setuptools in /usr/local/lib/python3.11/dist-packages (from tensorflow==2.18.0) (75.2.0)\n",
            "Requirement already satisfied: six>=1.12.0 in /usr/local/lib/python3.11/dist-packages (from tensorflow==2.18.0) (1.17.0)\n",
            "Requirement already satisfied: termcolor>=1.1.0 in /usr/local/lib/python3.11/dist-packages (from tensorflow==2.18.0) (3.0.1)\n",
            "Requirement already satisfied: typing-extensions>=3.6.6 in /usr/local/lib/python3.11/dist-packages (from tensorflow==2.18.0) (4.13.2)\n",
            "Requirement already satisfied: wrapt>=1.11.0 in /usr/local/lib/python3.11/dist-packages (from tensorflow==2.18.0) (1.17.2)\n",
            "Requirement already satisfied: grpcio<2.0,>=1.24.3 in /usr/local/lib/python3.11/dist-packages (from tensorflow==2.18.0) (1.71.0)\n",
            "Requirement already satisfied: tensorboard<2.19,>=2.18 in /usr/local/lib/python3.11/dist-packages (from tensorflow==2.18.0) (2.18.0)\n",
            "Requirement already satisfied: keras>=3.5.0 in /usr/local/lib/python3.11/dist-packages (from tensorflow==2.18.0) (3.8.0)\n",
            "Requirement already satisfied: numpy<2.1.0,>=1.26.0 in /usr/local/lib/python3.11/dist-packages (from tensorflow==2.18.0) (2.0.2)\n",
            "Requirement already satisfied: h5py>=3.11.0 in /usr/local/lib/python3.11/dist-packages (from tensorflow==2.18.0) (3.13.0)\n",
            "Requirement already satisfied: ml-dtypes<0.5.0,>=0.4.0 in /usr/local/lib/python3.11/dist-packages (from tensorflow==2.18.0) (0.4.1)\n",
            "Requirement already satisfied: tensorflow-io-gcs-filesystem>=0.23.1 in /usr/local/lib/python3.11/dist-packages (from tensorflow==2.18.0) (0.37.1)\n",
            "Requirement already satisfied: wheel<1.0,>=0.23.0 in /usr/local/lib/python3.11/dist-packages (from astunparse>=1.6.0->tensorflow==2.18.0) (0.45.1)\n",
            "Requirement already satisfied: rich in /usr/local/lib/python3.11/dist-packages (from keras>=3.5.0->tensorflow==2.18.0) (13.9.4)\n",
            "Requirement already satisfied: namex in /usr/local/lib/python3.11/dist-packages (from keras>=3.5.0->tensorflow==2.18.0) (0.0.8)\n",
            "Requirement already satisfied: optree in /usr/local/lib/python3.11/dist-packages (from keras>=3.5.0->tensorflow==2.18.0) (0.15.0)\n",
            "Requirement already satisfied: charset-normalizer<4,>=2 in /usr/local/lib/python3.11/dist-packages (from requests<3,>=2.21.0->tensorflow==2.18.0) (3.4.1)\n",
            "Requirement already satisfied: idna<4,>=2.5 in /usr/local/lib/python3.11/dist-packages (from requests<3,>=2.21.0->tensorflow==2.18.0) (3.10)\n",
            "Requirement already satisfied: urllib3<3,>=1.21.1 in /usr/local/lib/python3.11/dist-packages (from requests<3,>=2.21.0->tensorflow==2.18.0) (2.3.0)\n",
            "Requirement already satisfied: certifi>=2017.4.17 in /usr/local/lib/python3.11/dist-packages (from requests<3,>=2.21.0->tensorflow==2.18.0) (2025.1.31)\n",
            "Requirement already satisfied: markdown>=2.6.8 in /usr/local/lib/python3.11/dist-packages (from tensorboard<2.19,>=2.18->tensorflow==2.18.0) (3.8)\n",
            "Requirement already satisfied: tensorboard-data-server<0.8.0,>=0.7.0 in /usr/local/lib/python3.11/dist-packages (from tensorboard<2.19,>=2.18->tensorflow==2.18.0) (0.7.2)\n",
            "Requirement already satisfied: werkzeug>=1.0.1 in /usr/local/lib/python3.11/dist-packages (from tensorboard<2.19,>=2.18->tensorflow==2.18.0) (3.1.3)\n",
            "Requirement already satisfied: MarkupSafe>=2.1.1 in /usr/local/lib/python3.11/dist-packages (from werkzeug>=1.0.1->tensorboard<2.19,>=2.18->tensorflow==2.18.0) (3.0.2)\n",
            "Requirement already satisfied: markdown-it-py>=2.2.0 in /usr/local/lib/python3.11/dist-packages (from rich->keras>=3.5.0->tensorflow==2.18.0) (3.0.0)\n",
            "Requirement already satisfied: pygments<3.0.0,>=2.13.0 in /usr/local/lib/python3.11/dist-packages (from rich->keras>=3.5.0->tensorflow==2.18.0) (2.18.0)\n",
            "Requirement already satisfied: mdurl~=0.1 in /usr/local/lib/python3.11/dist-packages (from markdown-it-py>=2.2.0->rich->keras>=3.5.0->tensorflow==2.18.0) (0.1.2)\n"
          ]
        }
      ],
      "source": [
        "!pip install tensorflow==2.18.0  # Thay đổi phiên bản theo nhu cầu"
      ]
    },
    {
      "cell_type": "markdown",
      "metadata": {
        "id": "F5Aq6mlhfC5M"
      },
      "source": [
        "# **1. Kết nối với Drive**"
      ]
    },
    {
      "cell_type": "code",
      "execution_count": null,
      "metadata": {
        "colab": {
          "base_uri": "https://localhost:8080/"
        },
        "id": "1XT_xZbRWQvs",
        "outputId": "3be76102-cef0-4120-df99-9a1e29a9f840"
      },
      "outputs": [
        {
          "output_type": "stream",
          "name": "stdout",
          "text": [
            "Mounted at /content/gdrive\n",
            "/content/gdrive/.shortcut-targets-by-id/1DnsWp1mopgehQJUYpN4ERfnj2CyapJGW/ColabNotebooks/TieuLuan\n",
            "/content/gdrive/.shortcut-targets-by-id/1DnsWp1mopgehQJUYpN4ERfnj2CyapJGW/ColabNotebooks/TieuLuan\n"
          ]
        }
      ],
      "source": [
        "from google.colab import drive\n",
        "drive.mount('/content/gdrive')\n",
        "%cd '/content/gdrive/MyDrive/ColabNotebooks/TieuLuan'\n",
        "\n",
        "!pwd"
      ]
    },
    {
      "cell_type": "markdown",
      "metadata": {
        "id": "0W28DwVsfKnW"
      },
      "source": [
        "# **2. Import thư viện**"
      ]
    },
    {
      "cell_type": "code",
      "execution_count": null,
      "metadata": {
        "id": "JAHdmh3gXMX1"
      },
      "outputs": [],
      "source": [
        "# ===================== 1. Xử lý dữ liệu =====================\n",
        "import os\n",
        "import shutil  # Quản lý tệp/thư mục\n",
        "import random\n",
        "import math\n",
        "import collections\n",
        "import numpy as np  # Xử lý số học\n",
        "import pandas as pd  # Xử lý dữ liệu CSV\n",
        "from pathlib import Path\n",
        "from PIL import Image, UnidentifiedImageError\n",
        "from tensorflow.keras.preprocessing.image import load_img, img_to_array\n",
        "from tensorflow.keras.utils import Sequence\n",
        "from tensorflow.keras.preprocessing.image import ImageDataGenerator\n",
        "from tqdm import tqdm\n",
        "import pickle\n",
        "# ===================== 2. Machine Learning =====================\n",
        "from sklearn.model_selection import train_test_split\n",
        "from sklearn.preprocessing import LabelEncoder\n",
        "from sklearn.metrics import accuracy_score, precision_score, recall_score, f1_score\n",
        "from sklearn.metrics import classification_report, confusion_matrix, roc_auc_score\n",
        "import seaborn as sns\n",
        "\n",
        "# ===================== 3. TensorFlow & Keras =====================\n",
        "import tensorflow as tf\n",
        "from tensorflow.keras.models import Model, Sequential, load_model\n",
        "from tensorflow.keras.optimizers import Adam\n",
        "from tensorflow.keras.utils import to_categorical, plot_model\n",
        "from tensorflow.keras.callbacks import ModelCheckpoint\n",
        "from tensorflow.keras import mixed_precision\n",
        "from tensorflow.keras.regularizers import l2\n",
        "from tensorflow.keras.preprocessing import image_dataset_from_directory\n",
        "from tensorflow.keras.callbacks import EarlyStopping\n",
        "from tensorflow.keras.callbacks import ReduceLROnPlateau\n",
        "\n",
        "# ===================== 4. Xây dựng mô hình =====================\n",
        "from tensorflow.keras.layers import (\n",
        "    Input, Conv2D, MaxPooling2D, UpSampling2D, BatchNormalization,\n",
        "    GlobalAveragePooling2D, Dense, Dropout, RepeatVector, Reshape, Flatten\n",
        ")\n",
        "from tensorflow.keras.applications import EfficientNetB0, ResNet50\n",
        "from keras.applications.inception_resnet_v2 import InceptionResNetV2, preprocess_input, decode_predictions\n",
        "from keras.layers import add, concatenate\n",
        "from keras import layers, backend as K\n",
        "\n",
        "# ===================== 5. Xử lý hình ảnh & Vẽ biểu đồ =====================\n",
        "import cv2 as cv\n",
        "import matplotlib.pyplot as plt\n",
        "\n",
        "# ===================== 6. Đặt Seed (Reproducibility) =====================\n",
        "tf.random.set_seed(42)  # Thay số 42 bằng giá trị seed mong muốn\n",
        "np.random.seed(1)\n"
      ]
    },
    {
      "cell_type": "markdown",
      "metadata": {
        "id": "fV9gV1e4QVE_"
      },
      "source": [
        "# **3. Cấu hình môi trường TensorFlow**"
      ]
    },
    {
      "cell_type": "code",
      "execution_count": null,
      "metadata": {
        "colab": {
          "base_uri": "https://localhost:8080/"
        },
        "id": "dDM-OVCO-ttq",
        "outputId": "5230c3d9-1e7d-4866-8aa9-a1150b8aee52"
      },
      "outputs": [
        {
          "output_type": "stream",
          "name": "stdout",
          "text": [
            "TensorFlow is running on GPU: True\n"
          ]
        }
      ],
      "source": [
        "# Thiết lập GPU sử dụng bộ nhớ động (tránh lỗi thiếu bộ nhớ)\n",
        "gpu_devices = tf.config.list_physical_devices('GPU')\n",
        "if gpu_devices:\n",
        "    tf.config.experimental.set_memory_growth(gpu_devices[0], True)\n",
        "\n",
        "# Kiểm tra TensorFlow đang chạy trên GPU hay không\n",
        "print(\"TensorFlow is running on GPU:\", tf.test.is_built_with_cuda())\n",
        "# Bật chế độ Mixed Precision để tăng tốc (nếu GPU hỗ trợ)\n",
        "# Thiết lập mixed precision\n",
        "policy = mixed_precision.Policy('mixed_float16')\n",
        "mixed_precision.set_global_policy(policy)\n",
        "\n",
        "# Bật XLA với cấu hình tối ưu\n",
        "tf.config.optimizer.set_jit(True)\n",
        "tf.config.optimizer.set_experimental_options({\n",
        "    \"layout_optimizer\": True,\n",
        "    \"constant_folding\": True,\n",
        "    \"shape_optimization\": True,\n",
        "    \"remapping\": True,\n",
        "    \"arithmetic_optimization\": True,\n",
        "    \"dependency_optimization\": True,\n",
        "    \"loop_optimization\": True,\n",
        "    \"function_optimization\": True,\n",
        "    \"debug_stripper\": True\n",
        "})"
      ]
    },
    {
      "cell_type": "markdown",
      "metadata": {
        "id": "7WZ7kX1nNJKV"
      },
      "source": [
        "# **4. Configuration**"
      ]
    },
    {
      "cell_type": "code",
      "execution_count": null,
      "metadata": {
        "id": "smjji7qiydwu"
      },
      "outputs": [],
      "source": [
        "# Thư mục thiếu sáng\n",
        "low_light_dir = \"dataset/low_light\"\n",
        "\n",
        "low_light_noise_dir = \"dataset/low_light_noise\"\n",
        "\n",
        "# Thư mục chứa ảnh sau khi tăng cường\n",
        "enhanced_image_low_light_dir = \"dataset/enhanced_he_low_light\"\n",
        "enhanced_image_low_light_noise_dir = \"dataset/enhanced_he_low_light_noise\""
      ]
    },
    {
      "cell_type": "markdown",
      "source": [
        "# **HE**"
      ],
      "metadata": {
        "id": "mM7bEhhxyooD"
      }
    },
    {
      "cell_type": "code",
      "source": [
        "def enhance_with_clahe(input_dir, output_dir, img_size=(224, 224)):\n",
        "    os.makedirs(output_dir, exist_ok=True)\n",
        "\n",
        "    all_images = []\n",
        "    for root, _, files in os.walk(input_dir):\n",
        "        rel_path = os.path.relpath(root, input_dir)\n",
        "        save_dir = os.path.join(output_dir, rel_path)\n",
        "        os.makedirs(save_dir, exist_ok=True)\n",
        "\n",
        "        for file in files:\n",
        "            if file.lower().endswith((\".jpg\", \".png\", \".jpeg\")):\n",
        "                all_images.append((os.path.join(root, file), os.path.join(save_dir, file)))\n",
        "\n",
        "    clahe = cv.createCLAHE(clipLimit=2.0, tileGridSize=(8, 8))\n",
        "\n",
        "    with tqdm(total=len(all_images), desc=\"Enhancing with CLAHE\", ncols=100) as pbar:\n",
        "        for img_path, save_path in all_images:\n",
        "            img = cv.imread(img_path)\n",
        "            img = cv.resize(img, img_size)\n",
        "\n",
        "            # Chuyển sang không gian màu YCrCb để chỉ xử lý độ sáng (kênh Y)\n",
        "            ycrcb = cv.cvtColor(img, cv.COLOR_BGR2YCrCb)\n",
        "            y, cr, cb = cv.split(ycrcb)\n",
        "            y_eq = clahe.apply(y)\n",
        "            merged = cv.merge([y_eq, cr, cb])\n",
        "            result = cv.cvtColor(merged, cv.COLOR_YCrCb2BGR)\n",
        "\n",
        "            cv.imwrite(save_path, result)\n",
        "            pbar.update(1)\n",
        "\n",
        "    print(f\"✅ Đã lưu {len(all_images)} ảnh sau khi áp dụng CLAHE vào: {output_dir}\")"
      ],
      "metadata": {
        "id": "WynyfxPRyewZ"
      },
      "execution_count": null,
      "outputs": []
    },
    {
      "cell_type": "code",
      "source": [
        "enhance_with_clahe(low_light_dir, enhanced_image_low_light_dir, img_size=(224, 224))"
      ],
      "metadata": {
        "colab": {
          "base_uri": "https://localhost:8080/"
        },
        "id": "mgRm_6FTyhWT",
        "outputId": "41d6c697-7e96-46a7-e10e-ff3b75433443"
      },
      "execution_count": null,
      "outputs": [
        {
          "output_type": "stream",
          "name": "stderr",
          "text": [
            "Enhancing with CLAHE: 100%|█████████████████████████████████| 10402/10402 [1:35:23<00:00,  1.82it/s]"
          ]
        },
        {
          "output_type": "stream",
          "name": "stdout",
          "text": [
            "✅ Đã lưu 10402 ảnh sau khi áp dụng CLAHE vào: dataset/enhanced_he_low_light\n"
          ]
        },
        {
          "output_type": "stream",
          "name": "stderr",
          "text": [
            "\n"
          ]
        }
      ]
    },
    {
      "cell_type": "code",
      "source": [
        "enhance_with_clahe(low_light_noise_dir, enhanced_image_low_light_noise_dir, img_size=(224, 224))"
      ],
      "metadata": {
        "id": "F9NmnzJlykyd",
        "colab": {
          "base_uri": "https://localhost:8080/"
        },
        "outputId": "de9ef834-a171-4952-edd9-5bb6fcc2d1d9"
      },
      "execution_count": null,
      "outputs": [
        {
          "output_type": "stream",
          "name": "stderr",
          "text": [
            "Enhancing with CLAHE: 100%|███████████████████████████████████| 10402/10402 [32:19<00:00,  5.36it/s]"
          ]
        },
        {
          "output_type": "stream",
          "name": "stdout",
          "text": [
            "✅ Đã lưu 10402 ảnh sau khi áp dụng CLAHE vào: dataset/enhanced_he_low_light_noise\n"
          ]
        },
        {
          "output_type": "stream",
          "name": "stderr",
          "text": [
            "\n"
          ]
        }
      ]
    }
  ],
  "metadata": {
    "accelerator": "GPU",
    "colab": {
      "gpuType": "T4",
      "provenance": [],
      "include_colab_link": true
    },
    "kernelspec": {
      "display_name": "Python 3",
      "name": "python3"
    },
    "language_info": {
      "name": "python"
    }
  },
  "nbformat": 4,
  "nbformat_minor": 0
}