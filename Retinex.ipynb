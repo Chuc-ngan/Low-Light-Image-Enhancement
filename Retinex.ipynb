{
  "cells": [
    {
      "cell_type": "markdown",
      "metadata": {
        "id": "view-in-github",
        "colab_type": "text"
      },
      "source": [
        "<a href=\"https://colab.research.google.com/github/Chuc-ngan/Low-Light-Image-Enhancement/blob/main/Retinex.ipynb\" target=\"_parent\"><img src=\"https://colab.research.google.com/assets/colab-badge.svg\" alt=\"Open In Colab\"/></a>"
      ]
    },
    {
      "cell_type": "code",
      "execution_count": null,
      "metadata": {
        "colab": {
          "base_uri": "https://localhost:8080/"
        },
        "id": "2oVvY8i1hu3A",
        "outputId": "fe8056eb-8293-49e5-9a6f-ba97986956df"
      },
      "outputs": [
        {
          "output_type": "stream",
          "name": "stdout",
          "text": [
            "Requirement already satisfied: tensorflow==2.18.0 in /usr/local/lib/python3.11/dist-packages (2.18.0)\n",
            "Requirement already satisfied: absl-py>=1.0.0 in /usr/local/lib/python3.11/dist-packages (from tensorflow==2.18.0) (1.4.0)\n",
            "Requirement already satisfied: astunparse>=1.6.0 in /usr/local/lib/python3.11/dist-packages (from tensorflow==2.18.0) (1.6.3)\n",
            "Requirement already satisfied: flatbuffers>=24.3.25 in /usr/local/lib/python3.11/dist-packages (from tensorflow==2.18.0) (25.2.10)\n",
            "Requirement already satisfied: gast!=0.5.0,!=0.5.1,!=0.5.2,>=0.2.1 in /usr/local/lib/python3.11/dist-packages (from tensorflow==2.18.0) (0.6.0)\n",
            "Requirement already satisfied: google-pasta>=0.1.1 in /usr/local/lib/python3.11/dist-packages (from tensorflow==2.18.0) (0.2.0)\n",
            "Requirement already satisfied: libclang>=13.0.0 in /usr/local/lib/python3.11/dist-packages (from tensorflow==2.18.0) (18.1.1)\n",
            "Requirement already satisfied: opt-einsum>=2.3.2 in /usr/local/lib/python3.11/dist-packages (from tensorflow==2.18.0) (3.4.0)\n",
            "Requirement already satisfied: packaging in /usr/local/lib/python3.11/dist-packages (from tensorflow==2.18.0) (24.2)\n",
            "Requirement already satisfied: protobuf!=4.21.0,!=4.21.1,!=4.21.2,!=4.21.3,!=4.21.4,!=4.21.5,<6.0.0dev,>=3.20.3 in /usr/local/lib/python3.11/dist-packages (from tensorflow==2.18.0) (5.29.4)\n",
            "Requirement already satisfied: requests<3,>=2.21.0 in /usr/local/lib/python3.11/dist-packages (from tensorflow==2.18.0) (2.32.3)\n",
            "Requirement already satisfied: setuptools in /usr/local/lib/python3.11/dist-packages (from tensorflow==2.18.0) (75.2.0)\n",
            "Requirement already satisfied: six>=1.12.0 in /usr/local/lib/python3.11/dist-packages (from tensorflow==2.18.0) (1.17.0)\n",
            "Requirement already satisfied: termcolor>=1.1.0 in /usr/local/lib/python3.11/dist-packages (from tensorflow==2.18.0) (3.1.0)\n",
            "Requirement already satisfied: typing-extensions>=3.6.6 in /usr/local/lib/python3.11/dist-packages (from tensorflow==2.18.0) (4.13.2)\n",
            "Requirement already satisfied: wrapt>=1.11.0 in /usr/local/lib/python3.11/dist-packages (from tensorflow==2.18.0) (1.17.2)\n",
            "Requirement already satisfied: grpcio<2.0,>=1.24.3 in /usr/local/lib/python3.11/dist-packages (from tensorflow==2.18.0) (1.71.0)\n",
            "Requirement already satisfied: tensorboard<2.19,>=2.18 in /usr/local/lib/python3.11/dist-packages (from tensorflow==2.18.0) (2.18.0)\n",
            "Requirement already satisfied: keras>=3.5.0 in /usr/local/lib/python3.11/dist-packages (from tensorflow==2.18.0) (3.8.0)\n",
            "Requirement already satisfied: numpy<2.1.0,>=1.26.0 in /usr/local/lib/python3.11/dist-packages (from tensorflow==2.18.0) (2.0.2)\n",
            "Requirement already satisfied: h5py>=3.11.0 in /usr/local/lib/python3.11/dist-packages (from tensorflow==2.18.0) (3.13.0)\n",
            "Requirement already satisfied: ml-dtypes<0.5.0,>=0.4.0 in /usr/local/lib/python3.11/dist-packages (from tensorflow==2.18.0) (0.4.1)\n",
            "Requirement already satisfied: tensorflow-io-gcs-filesystem>=0.23.1 in /usr/local/lib/python3.11/dist-packages (from tensorflow==2.18.0) (0.37.1)\n",
            "Requirement already satisfied: wheel<1.0,>=0.23.0 in /usr/local/lib/python3.11/dist-packages (from astunparse>=1.6.0->tensorflow==2.18.0) (0.45.1)\n",
            "Requirement already satisfied: rich in /usr/local/lib/python3.11/dist-packages (from keras>=3.5.0->tensorflow==2.18.0) (13.9.4)\n",
            "Requirement already satisfied: namex in /usr/local/lib/python3.11/dist-packages (from keras>=3.5.0->tensorflow==2.18.0) (0.0.9)\n",
            "Requirement already satisfied: optree in /usr/local/lib/python3.11/dist-packages (from keras>=3.5.0->tensorflow==2.18.0) (0.15.0)\n",
            "Requirement already satisfied: charset-normalizer<4,>=2 in /usr/local/lib/python3.11/dist-packages (from requests<3,>=2.21.0->tensorflow==2.18.0) (3.4.2)\n",
            "Requirement already satisfied: idna<4,>=2.5 in /usr/local/lib/python3.11/dist-packages (from requests<3,>=2.21.0->tensorflow==2.18.0) (3.10)\n",
            "Requirement already satisfied: urllib3<3,>=1.21.1 in /usr/local/lib/python3.11/dist-packages (from requests<3,>=2.21.0->tensorflow==2.18.0) (2.4.0)\n",
            "Requirement already satisfied: certifi>=2017.4.17 in /usr/local/lib/python3.11/dist-packages (from requests<3,>=2.21.0->tensorflow==2.18.0) (2025.4.26)\n",
            "Requirement already satisfied: markdown>=2.6.8 in /usr/local/lib/python3.11/dist-packages (from tensorboard<2.19,>=2.18->tensorflow==2.18.0) (3.8)\n",
            "Requirement already satisfied: tensorboard-data-server<0.8.0,>=0.7.0 in /usr/local/lib/python3.11/dist-packages (from tensorboard<2.19,>=2.18->tensorflow==2.18.0) (0.7.2)\n",
            "Requirement already satisfied: werkzeug>=1.0.1 in /usr/local/lib/python3.11/dist-packages (from tensorboard<2.19,>=2.18->tensorflow==2.18.0) (3.1.3)\n",
            "Requirement already satisfied: MarkupSafe>=2.1.1 in /usr/local/lib/python3.11/dist-packages (from werkzeug>=1.0.1->tensorboard<2.19,>=2.18->tensorflow==2.18.0) (3.0.2)\n",
            "Requirement already satisfied: markdown-it-py>=2.2.0 in /usr/local/lib/python3.11/dist-packages (from rich->keras>=3.5.0->tensorflow==2.18.0) (3.0.0)\n",
            "Requirement already satisfied: pygments<3.0.0,>=2.13.0 in /usr/local/lib/python3.11/dist-packages (from rich->keras>=3.5.0->tensorflow==2.18.0) (2.19.1)\n",
            "Requirement already satisfied: mdurl~=0.1 in /usr/local/lib/python3.11/dist-packages (from markdown-it-py>=2.2.0->rich->keras>=3.5.0->tensorflow==2.18.0) (0.1.2)\n"
          ]
        }
      ],
      "source": [
        "!pip install tensorflow==2.18.0  # Thay đổi phiên bản theo nhu cầu"
      ]
    },
    {
      "cell_type": "markdown",
      "metadata": {
        "id": "F5Aq6mlhfC5M"
      },
      "source": [
        "# **1. Kết nối với Drive**"
      ]
    },
    {
      "cell_type": "code",
      "execution_count": null,
      "metadata": {
        "colab": {
          "base_uri": "https://localhost:8080/"
        },
        "id": "1XT_xZbRWQvs",
        "outputId": "38d111ac-fb6e-48c1-dc4a-5d9c6b1df504"
      },
      "outputs": [
        {
          "output_type": "stream",
          "name": "stdout",
          "text": [
            "Mounted at /content/gdrive\n",
            "/content/gdrive/.shortcut-targets-by-id/1DnsWp1mopgehQJUYpN4ERfnj2CyapJGW/ColabNotebooks/TieuLuan\n",
            "/content/gdrive/.shortcut-targets-by-id/1DnsWp1mopgehQJUYpN4ERfnj2CyapJGW/ColabNotebooks/TieuLuan\n"
          ]
        }
      ],
      "source": [
        "from google.colab import drive\n",
        "drive.mount('/content/gdrive')\n",
        "%cd '/content/gdrive/MyDrive/ColabNotebooks/TieuLuan'\n",
        "\n",
        "!pwd"
      ]
    },
    {
      "cell_type": "markdown",
      "metadata": {
        "id": "0W28DwVsfKnW"
      },
      "source": [
        "# **2. Import thư viện**"
      ]
    },
    {
      "cell_type": "code",
      "execution_count": null,
      "metadata": {
        "id": "JAHdmh3gXMX1"
      },
      "outputs": [],
      "source": [
        "# ===================== 1. Xử lý dữ liệu =====================\n",
        "import os\n",
        "import shutil  # Quản lý tệp/thư mục\n",
        "import random\n",
        "import math\n",
        "import collections\n",
        "import numpy as np  # Xử lý số học\n",
        "import pandas as pd  # Xử lý dữ liệu CSV\n",
        "from pathlib import Path\n",
        "from PIL import Image, UnidentifiedImageError\n",
        "from tensorflow.keras.preprocessing.image import load_img, img_to_array\n",
        "from tensorflow.keras.utils import Sequence\n",
        "from tensorflow.keras.preprocessing.image import ImageDataGenerator\n",
        "from tqdm import tqdm\n",
        "import pickle\n",
        "# ===================== 2. Machine Learning =====================\n",
        "from sklearn.model_selection import train_test_split\n",
        "from sklearn.preprocessing import LabelEncoder\n",
        "from sklearn.metrics import accuracy_score, precision_score, recall_score, f1_score\n",
        "from sklearn.metrics import classification_report, confusion_matrix, roc_auc_score\n",
        "import seaborn as sns\n",
        "\n",
        "# ===================== 3. TensorFlow & Keras =====================\n",
        "import tensorflow as tf\n",
        "from tensorflow.keras.models import Model, Sequential, load_model\n",
        "from tensorflow.keras.optimizers import Adam\n",
        "from tensorflow.keras.utils import to_categorical, plot_model\n",
        "from tensorflow.keras.callbacks import ModelCheckpoint\n",
        "from tensorflow.keras import mixed_precision\n",
        "from tensorflow.keras.regularizers import l2\n",
        "from tensorflow.keras.preprocessing import image_dataset_from_directory\n",
        "from tensorflow.keras.callbacks import EarlyStopping\n",
        "from tensorflow.keras.callbacks import ReduceLROnPlateau\n",
        "\n",
        "# ===================== 4. Xây dựng mô hình =====================\n",
        "from tensorflow.keras.layers import (\n",
        "    Input, Conv2D, MaxPooling2D, UpSampling2D, BatchNormalization,\n",
        "    GlobalAveragePooling2D, Dense, Dropout, RepeatVector, Reshape, Flatten\n",
        ")\n",
        "from tensorflow.keras.applications import EfficientNetB0, ResNet50\n",
        "from keras.applications.inception_resnet_v2 import InceptionResNetV2, preprocess_input, decode_predictions\n",
        "from keras.layers import add, concatenate\n",
        "from keras import layers, backend as K\n",
        "\n",
        "# ===================== 5. Xử lý hình ảnh & Vẽ biểu đồ =====================\n",
        "import cv2 as cv\n",
        "import matplotlib.pyplot as plt\n",
        "\n",
        "# ===================== 6. Đặt Seed (Reproducibility) =====================\n",
        "tf.random.set_seed(42)  # Thay số 42 bằng giá trị seed mong muốn\n",
        "np.random.seed(1)\n"
      ]
    },
    {
      "cell_type": "markdown",
      "metadata": {
        "id": "fV9gV1e4QVE_"
      },
      "source": [
        "# **3. Cấu hình môi trường TensorFlow**"
      ]
    },
    {
      "cell_type": "code",
      "execution_count": null,
      "metadata": {
        "colab": {
          "base_uri": "https://localhost:8080/"
        },
        "id": "dDM-OVCO-ttq",
        "outputId": "e197aa02-faec-4317-c346-67e895fe853b"
      },
      "outputs": [
        {
          "output_type": "stream",
          "name": "stdout",
          "text": [
            "TensorFlow is running on GPU: True\n"
          ]
        }
      ],
      "source": [
        "# Thiết lập GPU sử dụng bộ nhớ động (tránh lỗi thiếu bộ nhớ)\n",
        "gpu_devices = tf.config.list_physical_devices('GPU')\n",
        "if gpu_devices:\n",
        "    tf.config.experimental.set_memory_growth(gpu_devices[0], True)\n",
        "\n",
        "# Kiểm tra TensorFlow đang chạy trên GPU hay không\n",
        "print(\"TensorFlow is running on GPU:\", tf.test.is_built_with_cuda())\n",
        "# Bật chế độ Mixed Precision để tăng tốc (nếu GPU hỗ trợ)\n",
        "# Thiết lập mixed precision\n",
        "policy = mixed_precision.Policy('mixed_float16')\n",
        "mixed_precision.set_global_policy(policy)\n",
        "\n",
        "# Bật XLA với cấu hình tối ưu\n",
        "tf.config.optimizer.set_jit(True)\n",
        "tf.config.optimizer.set_experimental_options({\n",
        "    \"layout_optimizer\": True,\n",
        "    \"constant_folding\": True,\n",
        "    \"shape_optimization\": True,\n",
        "    \"remapping\": True,\n",
        "    \"arithmetic_optimization\": True,\n",
        "    \"dependency_optimization\": True,\n",
        "    \"loop_optimization\": True,\n",
        "    \"function_optimization\": True,\n",
        "    \"debug_stripper\": True\n",
        "})"
      ]
    },
    {
      "cell_type": "markdown",
      "metadata": {
        "id": "7WZ7kX1nNJKV"
      },
      "source": [
        "# **4. Configuration**"
      ]
    },
    {
      "cell_type": "code",
      "execution_count": null,
      "metadata": {
        "id": "smjji7qiydwu"
      },
      "outputs": [],
      "source": [
        "# Thư mục thiếu sáng\n",
        "low_light_dir = \"dataset/low_light\"\n",
        "\n",
        "low_light_noise_dir = \"dataset/low_light_noise\"\n",
        "\n",
        "# Thư mục chứa ảnh sau khi tăng cường\n",
        "enhanced_image_low_light_dir = \"dataset/enhanced_retinex_low_light\"\n",
        "enhanced_image_low_light_noise_dir = \"dataset/enhanced_retinex_low_light_noise\""
      ]
    },
    {
      "cell_type": "code",
      "source": [
        "def single_scale_retinex(img, sigma):\n",
        "    blur = cv.GaussianBlur(img, (0, 0), sigma)\n",
        "    return np.log1p(img) - np.log1p(blur + 1e-6)\n",
        "\n",
        "def multi_scale_retinex(img, sigma_list):\n",
        "    retinex = np.zeros_like(img)\n",
        "    for sigma in sigma_list:\n",
        "        retinex += single_scale_retinex(img, sigma)\n",
        "    retinex /= len(sigma_list)\n",
        "    return retinex\n",
        "\n",
        "def color_restoration(img, alpha=125, beta=46):\n",
        "    img_sum = np.sum(img, axis=2, keepdims=True)\n",
        "    color_rest = beta * (np.log1p(alpha * img) - np.log1p(img_sum + 1e-6))\n",
        "    return color_rest\n",
        "\n",
        "def msrcr(img, sigma_list=[15, 80, 250], gain=1.5, offset=30):\n",
        "    img = img.astype(np.float32) + 1.0  # tránh log(0)\n",
        "    retinex = multi_scale_retinex(img, sigma_list)\n",
        "    color_rest = color_restoration(img / 255.0)\n",
        "    msrcr_result = gain * (retinex * color_rest)\n",
        "\n",
        "    # Chuẩn hóa lại giá trị pixel về 0–255\n",
        "    for i in range(msrcr_result.shape[2]):\n",
        "        channel = msrcr_result[:, :, i]\n",
        "        channel = cv.normalize(channel, None, 0, 255, cv.NORM_MINMAX)\n",
        "        msrcr_result[:, :, i] = channel\n",
        "\n",
        "    return np.clip(msrcr_result, 0, 255).astype(np.uint8)"
      ],
      "metadata": {
        "id": "4g0-syxlgwnE"
      },
      "execution_count": null,
      "outputs": []
    },
    {
      "cell_type": "code",
      "source": [
        "def enhance_msrcr_images(input_dir, output_dir):\n",
        "    os.makedirs(output_dir, exist_ok=True)\n",
        "\n",
        "    all_images = []\n",
        "    for root, _, files in os.walk(input_dir):\n",
        "        rel_path = os.path.relpath(root, input_dir)\n",
        "        target_dir = os.path.join(output_dir, rel_path)\n",
        "        os.makedirs(target_dir, exist_ok=True)\n",
        "\n",
        "        image_paths = [f for f in files if f.lower().endswith(('.jpeg', '.png','.jpg'))]\n",
        "        for file in image_paths:\n",
        "            all_images.append((os.path.join(root, file), os.path.join(target_dir, file)))\n",
        "    for input_path, output_path in tqdm(all_images, desc=\"MSRCR Enhancing\", dynamic_ncols=True):\n",
        "        img = cv.imread(input_path)\n",
        "        img = cv.cvtColor(img, cv.COLOR_BGR2RGB)\n",
        "        enhanced = msrcr(img)\n",
        "        enhanced_bgr = cv.cvtColor(enhanced, cv.COLOR_RGB2BGR)\n",
        "        cv.imwrite(output_path, enhanced_bgr)\n",
        "\n",
        "    print(f\"✅ Đã xử lý {len(all_images)} ảnh và lưu vào: {output_dir}\")"
      ],
      "metadata": {
        "id": "mSQNgJM2g0G5"
      },
      "execution_count": null,
      "outputs": []
    },
    {
      "cell_type": "code",
      "source": [
        "enhance_msrcr_images(low_light_dir, enhanced_image_low_light_dir)"
      ],
      "metadata": {
        "colab": {
          "base_uri": "https://localhost:8080/"
        },
        "id": "tXdQgiYUg2ej",
        "outputId": "40ade208-e0c9-48f3-ad0c-634acfdd0308"
      },
      "execution_count": null,
      "outputs": [
        {
          "output_type": "stream",
          "name": "stderr",
          "text": [
            "MSRCR Enhancing: 100%|██████████| 10402/10402 [2:12:50<00:00,  1.31it/s]"
          ]
        },
        {
          "output_type": "stream",
          "name": "stdout",
          "text": [
            "✅ Đã xử lý 10402 ảnh và lưu vào: dataset/enhanced_retinex_low_light\n"
          ]
        },
        {
          "output_type": "stream",
          "name": "stderr",
          "text": [
            "\n"
          ]
        }
      ]
    },
    {
      "cell_type": "code",
      "source": [
        "enhance_msrcr_images(low_light_noise_dir, enhanced_image_low_light_noise_dir)"
      ],
      "metadata": {
        "colab": {
          "base_uri": "https://localhost:8080/"
        },
        "id": "KHG8dmJMhaF9",
        "outputId": "a05c84fe-d401-4eaf-f034-d4c1d5404052"
      },
      "execution_count": null,
      "outputs": [
        {
          "output_type": "stream",
          "name": "stderr",
          "text": [
            "MSRCR Enhancing: 100%|██████████| 10402/10402 [1:17:21<00:00,  2.24it/s]"
          ]
        },
        {
          "output_type": "stream",
          "name": "stdout",
          "text": [
            "✅ Đã xử lý 10402 ảnh và lưu vào: dataset/enhanced_retinex_low_light_noise\n"
          ]
        },
        {
          "output_type": "stream",
          "name": "stderr",
          "text": [
            "\n"
          ]
        }
      ]
    }
  ],
  "metadata": {
    "accelerator": "GPU",
    "colab": {
      "gpuType": "T4",
      "provenance": [],
      "toc_visible": true,
      "include_colab_link": true
    },
    "kernelspec": {
      "display_name": "Python 3",
      "name": "python3"
    },
    "language_info": {
      "name": "python"
    }
  },
  "nbformat": 4,
  "nbformat_minor": 0
}